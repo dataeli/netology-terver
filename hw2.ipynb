{
 "cells": [
  {
   "cell_type": "markdown",
   "metadata": {},
   "source": [
    "# Домашняя работа №2"
   ]
  },
  {
   "cell_type": "code",
   "execution_count": 1,
   "metadata": {},
   "outputs": [],
   "source": [
    "import pandas as pd\n",
    "from scipy import stats\n",
    "import numpy as np\n",
    "\n",
    "import seaborn as sns\n",
    "from sklearn import datasets\n",
    "from matplotlib import pyplot as plt\n",
    "from statsmodels.distributions.empirical_distribution import ECDF"
   ]
  },
  {
   "cell_type": "markdown",
   "metadata": {},
   "source": [
    "## Генеральная совокупность и выборка"
   ]
  },
  {
   "cell_type": "markdown",
   "metadata": {},
   "source": [
    "- Чем отличается генеральная совокупность от выборки?"
   ]
  },
  {
   "cell_type": "code",
   "execution_count": null,
   "metadata": {},
   "outputs": [],
   "source": [
    "#Ген совокупность - совокупность всех исследуемых объектов. Выборка - произвольный счетный набор объектов\n",
    "#из ген совокупности для анализа. Отличаются колчеством объектов =)"
   ]
  },
  {
   "cell_type": "markdown",
   "metadata": {},
   "source": [
    "- Если размер выборки больше 200, то такая выборка является репрезентативной?"
   ]
  },
  {
   "cell_type": "code",
   "execution_count": null,
   "metadata": {},
   "outputs": [],
   "source": [
    "#Неизвестно. Репрезентативность отличает включение всех вохможных видов объектов из ген совокупности\n",
    "#В примерно одинаковых пропорциях."
   ]
  },
  {
   "cell_type": "markdown",
   "metadata": {},
   "source": [
    "- Измерили длину волос футболистов сборной Франции на ЧМ-2018. Что могло являться генеральной совокупностью? Приведите 3 примера."
   ]
  },
  {
   "cell_type": "code",
   "execution_count": null,
   "metadata": {},
   "outputs": [],
   "source": [
    "#1) Длина волос всех футболистов на ЧМ\n",
    "#2) Длина волос всех футболистов из Франции\n",
    "#3) Длина волос мужчин из всей французской делегации приехавшей на ЧМ"
   ]
  },
  {
   "cell_type": "markdown",
   "metadata": {},
   "source": [
    "- Пусть генеральная совокупность --- вес детей, родившихся в Волгограде за последние 10 лет. Предложите 2 стратегии, как сгенерировать выборку."
   ]
  },
  {
   "cell_type": "code",
   "execution_count": null,
   "metadata": {},
   "outputs": [],
   "source": [
    "#1) Взять по 5 произвольных карточек каждого года из всех роддомов Волгограда\n",
    "#2) Взять по 30 карточек каждого года из 5 различных роддомов"
   ]
  },
  {
   "cell_type": "markdown",
   "metadata": {},
   "source": [
    "## Параметры центра и разброса"
   ]
  },
  {
   "cell_type": "markdown",
   "metadata": {},
   "source": [
    "- Постройте распределение, у которого отсутствует мода.\n"
   ]
  },
  {
   "cell_type": "code",
   "execution_count": 6,
   "metadata": {},
   "outputs": [
    {
     "data": {
      "text/plain": [
       "[<matplotlib.lines.Line2D at 0x7f2b48f8ec50>]"
      ]
     },
     "execution_count": 6,
     "metadata": {},
     "output_type": "execute_result"
    },
    {
     "data": {
      "image/png": "[encoded data removed]",
      "text/plain": [
       "<Figure size 432x288 with 1 Axes>"
      ]
     },
     "metadata": {
      "needs_background": "light"
     },
     "output_type": "display_data"
    }
   ],
   "source": [
    "ravn = stats.uniform(0,5)\n",
    "x = np.linspace(0,5,6)\n",
    "cdf = ravn.cdf(x)\n",
    "plt.plot(x, cdf)"
   ]
  },
  {
   "cell_type": "markdown",
   "metadata": {},
   "source": [
    "- Какая из статистик (медиана, матожидание) будет наиболее неустойчивой при выбросах? Проверить на выборке из Гамма-распределения. "
   ]
  },
  {
   "cell_type": "code",
   "execution_count": 36,
   "metadata": {},
   "outputs": [
    {
     "name": "stdout",
     "output_type": "stream",
     "text": [
      "1.0030656535608184 1.1187800735131648\n",
      "Медиана гораздо устойчивей\n"
     ]
    }
   ],
   "source": [
    "gamma_rv = stats.gamma(3, 1)\n",
    "sample = gamma_rv.rvs(51)\n",
    "med = sorted(sample)[24]\n",
    "mean = sample.mean()\n",
    "\n",
    "#your code here\n",
    "overshoot = 30\n",
    "sample_with_overshoot = np.append(sample, overshoot)\n",
    "new_med = sorted(sample_with_overshoot)[25]\n",
    "new_mean = sample_with_overshoot.mean()\n",
    "print(new_med/med, new_mean/mean)\n",
    "\n",
    "print('Медиана гораздо устойчивей')"
   ]
  },
  {
   "cell_type": "markdown",
   "metadata": {},
   "source": [
    "- Как изменится матожидание, если к выборке добавить константу $C$? Умножить на $C$. \n",
    "\n",
    "Проверите на выборке из распределения Пуассона"
   ]
  },
  {
   "cell_type": "code",
   "execution_count": 37,
   "metadata": {},
   "outputs": [
    {
     "name": "stdout",
     "output_type": "stream",
     "text": [
      "2.19 2.1732673267326734 1.095\n"
     ]
    }
   ],
   "source": [
    "pois_rv = stats.poisson(2)\n",
    "sample = pois_rv.rvs(100)\n",
    "C = 0.5\n",
    "#your code here\n",
    "mean = sample.mean()\n",
    "mean_with_c = np.append(sample, C).mean()\n",
    "mean_mult_c = mean*C\n",
    "print(mean, mean_with_c, mean_mult_c)"
   ]
  },
  {
   "cell_type": "markdown",
   "metadata": {},
   "source": [
    "- Как изменится дисперсия при добавлении выбросов? Проверьте для распределения экспоненциального распределения"
   ]
  },
  {
   "cell_type": "code",
   "execution_count": 40,
   "metadata": {},
   "outputs": [
    {
     "name": "stdout",
     "output_type": "stream",
     "text": [
      "0.9375576393503094 2.8256667908619444\n"
     ]
    }
   ],
   "source": [
    "exp_rv = stats.expon(4)\n",
    "sample = exp_rv.rvs(50)\n",
    "var = sample.var()\n",
    "\n",
    "#your code here\n",
    "overshoot = 15\n",
    "sample_with_overshoot = np.append(sample, overshoot)\n",
    "new_var = sample_with_overshoot.var()\n",
    "print(var, new_var)"
   ]
  },
  {
   "cell_type": "markdown",
   "metadata": {},
   "source": [
    "- Что шире: интерквантильный размах ($X_{0.75} - X_{0.25}$) или $(\\bar{X}-s, \\bar{X}+s)$ для $\\mathcal{N}(a, \\sigma^2)$. Посчитайте и сравните эти интервалы для распредения $\\mathcal{N}(3,1)$"
   ]
  },
  {
   "cell_type": "code",
   "execution_count": 94,
   "metadata": {},
   "outputs": [
    {
     "name": "stdout",
     "output_type": "stream",
     "text": [
      "500 700\n",
      "Размах со среднеквадратичными больше Интерквантильный\n"
     ]
    }
   ],
   "source": [
    "norm_rv = stats.norm(3,1)\n",
    "sample = norm_rv.rvs(1000)\n",
    "sorted_sample = np.sort(sample)\n",
    "x_mean = sorted_sample.mean()\n",
    "min_ss = 0\n",
    "max_ss = 0\n",
    "for i in range(len(sorted_sample)):\n",
    "    if sorted_sample[i]<x_mean-1:\n",
    "        min_ss += 1\n",
    "    if sorted_sample[i]>x_mean+1:\n",
    "        max_ss += 1\n",
    "min_ss\n",
    "max_ss\n",
    "InterQuantRazmah = 500\n",
    "AnotherRazmah = 1000 - max_ss - min_ss\n",
    "print(InterQuantRazmah, AnotherRazmah)\n",
    "print('Размах со среднеквадратичными больше чем Интерквантильный')"
   ]
  },
  {
   "cell_type": "markdown",
   "metadata": {},
   "source": [
    "# Основные статистики и ЦПТ"
   ]
  },
  {
   "cell_type": "markdown",
   "metadata": {},
   "source": [
    "- Что такое статистика? Посчитайте любую для бета-распределения (1,3)"
   ]
  },
  {
   "cell_type": "code",
   "execution_count": 96,
   "metadata": {},
   "outputs": [
    {
     "name": "stdout",
     "output_type": "stream",
     "text": [
      "Выборочное среднее равно  0.21028476466218524\n"
     ]
    }
   ],
   "source": [
    "beta_rv = stats.beta(1,3)\n",
    "test1 = beta_rv.rvs(50)\n",
    "mean_x = test1.mean() \n",
    "print('Выборочное среднее равно ', mean_x)"
   ]
  },
  {
   "cell_type": "markdown",
   "metadata": {},
   "source": [
    "- Какие статистики являются оценками матожидания, медианы и дисперсии? Посчитайте их для гамма-распределения с параметрами (2, 2)"
   ]
  },
  {
   "cell_type": "code",
   "execution_count": 101,
   "metadata": {},
   "outputs": [
    {
     "name": "stdout",
     "output_type": "stream",
     "text": [
      "МАТОЖ = 4.023003739102166   ДИСПЕРСИЯ = 1.2599817851529742   МЕДИАНА = 3.8759384156455114\n"
     ]
    }
   ],
   "source": [
    "gamma_rv = stats.gamma(2,2)\n",
    "test2 = gamma_rv.rvs(50)\n",
    "#your code here\n",
    "mean =test2.mean()\n",
    "var =test2.var()\n",
    "med =np.median(test2)\n",
    "print('МАТОЖ =', mean, '  ДИСПЕРСИЯ =', var, '  МЕДИАНА =', med)"
   ]
  },
  {
   "cell_type": "markdown",
   "metadata": {},
   "source": [
    "- Какое распределение имеет $\\bar{X}$ по ЦПТ? Если исходное распределение $\\mathcal{N}(5, 2)$. Сгенерировать выборки размером 50 из этого распределения и проверить. (построить распределение средних)"
   ]
  },
  {
   "cell_type": "code",
   "execution_count": 107,
   "metadata": {},
   "outputs": [
    {
     "data": {
      "text/plain": [
       "Text(0.5, 0, '$x$')"
      ]
     },
     "execution_count": 107,
     "metadata": {},
     "output_type": "execute_result"
    },
    {
     "data": {
      "image/png": "[encoded data removed]",
      "text/plain": [
       "<Figure size 432x288 with 1 Axes>"
      ]
     },
     "metadata": {
      "needs_background": "light"
     },
     "output_type": "display_data"
    }
   ],
   "source": [
    "norm_rv = stats.norm(5,2)\n",
    "n = 50\n",
    "meansample = []\n",
    "for i in range(10000):\n",
    "    sample = norm_rv.rvs(n)\n",
    "    meansample.append(sample.mean())\n",
    "\n",
    "plt.hist(meansample,density=True)\n",
    "plt.ylabel('fraction of samples')\n",
    "plt.xlabel('$x$')"
   ]
  },
  {
   "cell_type": "markdown",
   "metadata": {},
   "source": [
    "- Сгенерируйте выборки так, чтобы ЦПТ не выполнялось (распределение средних не было похоже нормальное)"
   ]
  },
  {
   "cell_type": "code",
   "execution_count": 109,
   "metadata": {
    "scrolled": true
   },
   "outputs": [
    {
     "data": {
      "text/plain": [
       "Text(0.5, 0, '$x$')"
      ]
     },
     "execution_count": 109,
     "metadata": {},
     "output_type": "execute_result"
    },
    {
     "data": {
      "image/png": "[encoded data removed]",
      "text/plain": [
       "<Figure size 432x288 with 1 Axes>"
      ]
     },
     "metadata": {
      "needs_background": "light"
     },
     "output_type": "display_data"
    }
   ],
   "source": [
    "norm_rv = stats.norm(5,2)\n",
    "n = 50\n",
    "meansample = []\n",
    "for i in range(10):\n",
    "    sample = norm_rv.rvs(n)\n",
    "    meansample.append(sample.mean())\n",
    "\n",
    "plt.hist(meansample,density=True)\n",
    "plt.ylabel('fraction of samples')\n",
    "plt.xlabel('$x$')"
   ]
  },
  {
   "cell_type": "markdown",
   "metadata": {},
   "source": [
    "- Сделайте z-преобразование для данного распределения и посчитайте новое матожидание и дисперсию "
   ]
  },
  {
   "cell_type": "code",
   "execution_count": 131,
   "metadata": {},
   "outputs": [
    {
     "name": "stdout",
     "output_type": "stream",
     "text": [
      "-3.827493877395227e-16 1.0107191452446167\n"
     ]
    }
   ],
   "source": [
    "expon_rv = stats.expon(3)\n",
    "exp_sample = expon_rv.rvs(100)\n",
    "new_rv = np.array([(x - exp_sample.mean())/exp_sample.var() for x in exp_sample])\n",
    "print(new_rv.mean(), new_rv.var())"
   ]
  },
  {
   "cell_type": "markdown",
   "metadata": {},
   "source": [
    "## Доверительные интервалы и гипотезы"
   ]
  },
  {
   "cell_type": "markdown",
   "metadata": {},
   "source": [
    "В данных задачах используйте встроенную функцию, позволяющую искать квантили случайной величины **your_rv**.ppf, а также https://gallery.shinyapps.io/dist_calc/ для визуальной картины"
   ]
  },
  {
   "cell_type": "markdown",
   "metadata": {},
   "source": [
    "- Постройте 90% доверительный интервал для среднего значения $\\mathcal{\\chi^2_{10}}$."
   ]
  },
  {
   "cell_type": "code",
   "execution_count": 152,
   "metadata": {},
   "outputs": [
    {
     "name": "stdout",
     "output_type": "stream",
     "text": [
      "Доверительный интервал 9.970648093602655 11.618680256175253 1.6480321625725978\n"
     ]
    }
   ],
   "source": [
    "chi_rv = stats.chi2(10)\n",
    "n =100\n",
    "ch2_sample = chi_rv.rvs(n)\n",
    "chi_mat = ch2_sample.mean()\n",
    "chi_var = ch2_sample.var()\n",
    "sigma_chi = chi_var ** 0.5\n",
    "t1 = chi_mat - sigma_chi/(n**0.5)*1.64\n",
    "t2 = chi_mat + sigma_chi/(n**0.5)*1.64\n",
    "print('Доверительный интервал', t1, t2, t2-t1)"
   ]
  },
  {
   "cell_type": "markdown",
   "metadata": {},
   "source": [
    "- Постройте ДИ для распределения Стьюдента с df = 15 уровня доверия 90%  и 95%. Какой интервал шире?"
   ]
  },
  {
   "cell_type": "code",
   "execution_count": 151,
   "metadata": {},
   "outputs": [
    {
     "name": "stdout",
     "output_type": "stream",
     "text": [
      "Доверительный интервал для уровня доверия 90% 9.36607358931351 10.742207479889563\n",
      "Доверительный интервал для уровня доверия 95% 9.231816624379261 10.876464444823812\n",
      "Шире интервал для уровня доверия 95% 1.3761338905760532 1.6446478204445505\n"
     ]
    }
   ],
   "source": [
    "stu_rv = stats.t(15)\n",
    "n=100\n",
    "stu_sample = chi_rv.rvs(n)\n",
    "stu_mat = stu_sample.mean()\n",
    "stu_var = stu_sample.var()\n",
    "sigma_stu = stu_var ** 0.5\n",
    "t1_90 = chi_mat - sigma_chi/(n**0.5)*1.64\n",
    "t2_90 = chi_mat + sigma_chi/(n**0.5)*1.64\n",
    "t1_95 = chi_mat - sigma_chi/(n**0.5)*1.96\n",
    "t2_95 = chi_mat + sigma_chi/(n**0.5)*1.96\n",
    "\n",
    "print('Доверительный интервал для уровня доверия 90%', t1_90, t2_90)\n",
    "print('Доверительный интервал для уровня доверия 95%', t1_95, t2_95)\n",
    "print('Шире интервал для уровня доверия 95%', t2_90-t1_90, t2_95-t1_95)"
   ]
  },
  {
   "cell_type": "markdown",
   "metadata": {},
   "source": [
    "- Сгенерируйте 2 выборки с одинаковыми параметрами, отличающиеся в 2 раза по размеру. Постройте 2 90% ДИ. Чем они отличаются? Распределение $\\mathcal{N}(0,2)$ "
   ]
  },
  {
   "cell_type": "code",
   "execution_count": 159,
   "metadata": {},
   "outputs": [
    {
     "name": "stdout",
     "output_type": "stream",
     "text": [
      "Доверительный интервал для маленькой выборки -0.2084679529197726 -0.00412373994144484\n",
      "Доверительный интервал для большой выборки 0.024222127003950933 0.17459255004329524\n",
      "Чем больше выборка, тем уже(достоверней) дов интервал 0.20434421297832778 0.1503704230393443\n"
     ]
    }
   ],
   "source": [
    "norm_rv = stats.norm(0, 2)\n",
    "n1 = 1000\n",
    "n2 = 2000\n",
    "vib1 = norm_rv.rvs(n1)\n",
    "vib2 = norm_rv.rvs(n2)\n",
    "vib1_mat = vib1.mean()\n",
    "vib1_var = vib1.var()\n",
    "vib1_sigma = vib1_var ** 0.5\n",
    "v11_90 = vib1_mat - vib1_sigma/(n1**0.5)*1.64\n",
    "v12_90 = vib1_mat + vib1_sigma/(n1**0.5)*1.64\n",
    "vib2_mat = vib2.mean()\n",
    "vib2_var = vib2.var()\n",
    "vib2_sigma = vib2_var ** 0.5\n",
    "v21_90 = vib2_mat - vib2_sigma/(n2**0.5)*1.64\n",
    "v22_90 = vib2_mat + vib2_sigma/(n2**0.5)*1.64\n",
    "\n",
    "print('Доверительный интервал для маленькой выборки', v11_90, v12_90)\n",
    "print('Доверительный интервал для большой выборки', v21_90, v22_90)\n",
    "print('Чем больше выборка, тем уже(достоверней) дов интервал', v12_90 - v11_90, v22_90-v21_90 )\n"
   ]
  },
  {
   "cell_type": "markdown",
   "metadata": {},
   "source": [
    "- Пусть $H_0: M=100$. Мы получили $p = 0,12$ и не смогли отклонить нулевую гипотезу. Однако позже выяснилось, что среднее в генеральной совокупности равняется 114. Ошибку какого рода мы допустили?"
   ]
  },
  {
   "cell_type": "code",
   "execution_count": null,
   "metadata": {},
   "outputs": [],
   "source": [
    "#Ошибку второго рода. Неверная гипотеза была принята!"
   ]
  },
  {
   "cell_type": "markdown",
   "metadata": {},
   "source": [
    "#### Какие рассуждения относительно p-value верные?\n",
    "\n",
    "- Елси p уровень значимости равен 0,003, то вероятность того, что верна нулевая гипотеза также равняется  0,003.\n",
    "- Если бы в исследовании мы получили $p=0,9$, это означало бы, что верна нулевая гипотеза.\n",
    "- Чем меньше p уровень значимости, тем хуже гипотеза.\n"
   ]
  },
  {
   "cell_type": "code",
   "execution_count": 110,
   "metadata": {},
   "outputs": [],
   "source": [
    "#1) Верно\n",
    "#2) Верно\n",
    "#3) Неверно, тем меньше вероятность, что распределение сл величины будет такое же (в тех интервалах) что и ранее "
   ]
  },
  {
   "cell_type": "markdown",
   "metadata": {},
   "source": [
    "- Какое $p$-value будете использовать, если отклонять $H_0$ рисковано: $0.05$ или $0.01$? Является ли 99% доверительный интервал хорошей оценкой в общем случае?"
   ]
  },
  {
   "cell_type": "code",
   "execution_count": 111,
   "metadata": {},
   "outputs": [],
   "source": [
    "#1) 0.01\n",
    "#2) Нет, даже 95% многовато, 90% - самое то! \n",
    "#Чем шире интервал, тем больше экстремальных значений он захватывает!"
   ]
  },
  {
   "cell_type": "markdown",
   "metadata": {},
   "source": [
    "## Стьюдент и корреляция"
   ]
  },
  {
   "cell_type": "markdown",
   "metadata": {},
   "source": [
    "- Изобразите графики плотности распределения Стьюдента для нескольких значений df= (5,10, 20, 40) и $\\mathcal{N}(0,1)$. В чем отличия?"
   ]
  },
  {
   "cell_type": "code",
   "execution_count": 135,
   "metadata": {},
   "outputs": [
    {
     "name": "stdout",
     "output_type": "stream",
     "text": [
      "Чем больше степеней свободы, тем ближе распределение к нормальному\n"
     ]
    },
    {
     "data": {
      "text/plain": [
       "<matplotlib.legend.Legend at 0x7f2b46dc6da0>"
      ]
     },
     "execution_count": 135,
     "metadata": {},
     "output_type": "execute_result"
    },
    {
     "data": {
      "image/png": "[encoded data removed]",
      "text/plain": [
       "<Figure size 864x432 with 1 Axes>"
      ]
     },
     "metadata": {
      "needs_background": "light"
     },
     "output_type": "display_data"
    }
   ],
   "source": [
    "norm = stats.norm(0, 1)\n",
    "t1 = stats.t(5)\n",
    "t2 = stats.t(10)\n",
    "t3 = stats.t(20)\n",
    "t4 = stats.t(40)\n",
    "x = np.linspace(-4, 4, 100)\n",
    "\n",
    "plt.figure(figsize=(12,6))\n",
    "\n",
    "pdf = t1.pdf(x)\n",
    "plt.plot(x, pdf)\n",
    "\n",
    "pdf_2 = t2.pdf(x)\n",
    "plt.plot(x, pdf_2)\n",
    "\n",
    "pdf_3 = t3.pdf(x)\n",
    "plt.plot(x, pdf_3)\n",
    "\n",
    "pdf_4 = t4.pdf(x)\n",
    "plt.plot(x, pdf_4)\n",
    "\n",
    "pdf_norm = norm.pdf(x)\n",
    "print('Чем больше степеней свободы, тем ближе распределение к нормальному')\n",
    "plt.plot(x, pdf_norm)\n",
    "\n",
    "plt.legend(['Student df=5', 'Student df=10','Student df=20','Student df=40', 'norm a=0, sigma=1'])\n"
   ]
  },
  {
   "cell_type": "markdown",
   "metadata": {},
   "source": [
    "- Постройте две выборки, чтобы их корреляция была равна -1. Изобразите зависимость на графике."
   ]
  },
  {
   "cell_type": "code",
   "execution_count": null,
   "metadata": {},
   "outputs": [],
   "source": [
    "#your code here"
   ]
  },
  {
   "cell_type": "markdown",
   "metadata": {},
   "source": [
    "- Постройте две выборки, чтобы их корреляция была равна 0. Изобразите зависимость на графике."
   ]
  },
  {
   "cell_type": "code",
   "execution_count": null,
   "metadata": {},
   "outputs": [],
   "source": [
    "#your code here"
   ]
  },
  {
   "cell_type": "markdown",
   "metadata": {},
   "source": [
    "- Сгенерируйте 2 выборки из $\\mathcal{N}(4,2)$, посчитайте их общий ранг и сумму рангов в каждой выборке."
   ]
  },
  {
   "cell_type": "code",
   "execution_count": 168,
   "metadata": {},
   "outputs": [
    {
     "name": "stdout",
     "output_type": "stream",
     "text": [
      "20100.0 5050.0 5050.0\n"
     ]
    }
   ],
   "source": [
    "norm_rv = stats.norm(4,2)\n",
    "sample_1 = norm_rv.rvs(100)\n",
    "sample_2 = norm_rv.rvs(100)\n",
    "sample = np.concatenate((sample_1, sample_2))\n",
    "sum_rang = sum(stats.rankdata(sample))\n",
    "rang1 = sum(stats.rankdata(sample_1))\n",
    "rang2 = sum(stats.rankdata(sample_2))\n",
    "print(sum_rang, rang1, rang2)"
   ]
  },
  {
   "cell_type": "code",
   "execution_count": null,
   "metadata": {},
   "outputs": [],
   "source": []
  }
 ],
 "metadata": {
  "kernelspec": {
   "display_name": "Python 3",
   "language": "python",
   "name": "python3"
  },
  "language_info": {
   "codemirror_mode": {
    "name": "ipython",
    "version": 3
   },
   "file_extension": ".py",
   "mimetype": "text/x-python",
   "name": "python",
   "nbconvert_exporter": "python",
   "pygments_lexer": "ipython3",
   "version": "3.7.1"
  }
 },
 "nbformat": 4,
 "nbformat_minor": 2
}
